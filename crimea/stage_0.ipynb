{
 "cells": [
  {
   "cell_type": "markdown",
   "metadata": {
    "id": "C_ehzCJDTxUb"
   },
   "source": [
    "# Нулевой этап обучения\n",
    "\n",
    "## Заимствуем идею из трансформеров и на нулевом этапе будем обучать модель восстанавливать замаскированные участки, затем заменим выходной слой и будем обучать задаче сегментации на уже требуемые классы.\n",
    "\n",
    "Маскировать будем фрагментами готовых масок, оценивать через MSELoss."
   ]
  },
  {
   "cell_type": "code",
   "execution_count": 2,
   "metadata": {
    "id": "XKznVgHinjSV"
   },
   "outputs": [],
   "source": [
    "%%capture\n",
    "\n",
    "# Загрузка датасета\n",
    "try:\n",
    "    import google.colab\n",
    "    from google.colab import drive\n",
    "    drive.mount('/content/drive', force_remount=True)\n",
    "    !cp /content/drive/MyDrive/crimea/train_crimea.zip /content/\n",
    "    !unzip -oq /content/train_crimea.zip\n",
    "\n",
    "    !python -m pip install --upgrade pip\n",
    "    !pip install -U segmentation_models_pytorch\n",
    "\n",
    "    COLAB      = True\n",
    "    ROOT       = '/content/'\n",
    "    ROOT_DRIVE = '/content/drive/MyDrive/crimea/'\n",
    "\n",
    "except:\n",
    "    COLAB      = False\n",
    "    ROOT       = './'\n",
    "    ROOT_DRIVE = './'\n"
   ]
  },
  {
   "cell_type": "code",
   "execution_count": 3,
   "metadata": {
    "colab": {
     "base_uri": "https://localhost:8080/"
    },
    "id": "XhKhEfYRoXt1",
    "outputId": "54307814-5863-44c5-de71-d2b1cb640102"
   },
   "outputs": [
    {
     "name": "stdout",
     "output_type": "stream",
     "text": [
      "Sun Nov 20 10:08:25 2022       \n",
      "+-----------------------------------------------------------------------------+\n",
      "| NVIDIA-SMI 460.32.03    Driver Version: 460.32.03    CUDA Version: 11.2     |\n",
      "|-------------------------------+----------------------+----------------------+\n",
      "| GPU  Name        Persistence-M| Bus-Id        Disp.A | Volatile Uncorr. ECC |\n",
      "| Fan  Temp  Perf  Pwr:Usage/Cap|         Memory-Usage | GPU-Util  Compute M. |\n",
      "|                               |                      |               MIG M. |\n",
      "|===============================+======================+======================|\n",
      "|   0  Tesla T4            Off  | 00000000:00:04.0 Off |                    0 |\n",
      "| N/A   37C    P8     9W /  70W |      0MiB / 15109MiB |      0%      Default |\n",
      "|                               |                      |                  N/A |\n",
      "+-------------------------------+----------------------+----------------------+\n",
      "                                                                               \n",
      "+-----------------------------------------------------------------------------+\n",
      "| Processes:                                                                  |\n",
      "|  GPU   GI   CI        PID   Type   Process name                  GPU Memory |\n",
      "|        ID   ID                                                   Usage      |\n",
      "|=============================================================================|\n",
      "|  No running processes found                                                 |\n",
      "+-----------------------------------------------------------------------------+\n"
     ]
    }
   ],
   "source": [
    "!nvidia-smi"
   ]
  },
  {
   "cell_type": "code",
   "execution_count": 4,
   "metadata": {
    "colab": {
     "base_uri": "https://localhost:8080/"
    },
    "id": "Q9kjOjiknfsb",
    "outputId": "5c1e04f2-5914-4f20-b704-bbf17679f4be"
   },
   "outputs": [
    {
     "name": "stderr",
     "output_type": "stream",
     "text": [
      "Downloading: \"https://github.com/rwightman/pytorch-image-models/releases/download/v0.1-weights/tf_xception_71-8eec7df1.pth\" to /root/.cache/torch/hub/checkpoints/tf_xception_71-8eec7df1.pth\n"
     ]
    }
   ],
   "source": [
    "import os\n",
    "import glob\n",
    "import random\n",
    "import warnings\n",
    "from pathlib import Path\n",
    "from typing import List\n",
    "from datetime import datetime\n",
    "\n",
    "import cv2\n",
    "import numpy as np\n",
    "import pandas as pd\n",
    "import torch\n",
    "import torch.nn as nn\n",
    "from torch.utils.data import Dataset, DataLoader\n",
    "\n",
    "import albumentations as A\n",
    "from albumentations.pytorch import ToTensorV2\n",
    "import segmentation_models_pytorch as smp\n",
    "\n",
    "SEED = 1\n",
    "SIZE = 512\n",
    "STAGE = 0\n",
    "DEVICE = 'cuda'\n",
    "EPOCHS = 30\n",
    "MAX_LR = 1e-4\n",
    "BATCHSIZE = 12\n",
    "\n",
    "ARCH = 'DeepLabV3Plus'\n",
    "ENCODER = 'tu-xception71'\n",
    "VERSION = f'stage_{STAGE}'\n",
    "\n",
    "warnings.filterwarnings(\"ignore\", 'User provided device_type of \\'cuda\\', but CUDA is not available. Disabling')\n",
    "warnings.filterwarnings(\"ignore\", 'torch.cuda.amp.GradScaler is enabled, but CUDA is not available.  Disabling.')\n",
    "\n",
    "model = smp.DeepLabV3Plus(encoder_name=ENCODER,\n",
    "                          encoder_weights='imagenet', classes=3) # RGB\n",
    "scaler = torch.cuda.amp.GradScaler()"
   ]
  },
  {
   "cell_type": "code",
   "execution_count": 5,
   "metadata": {
    "colab": {
     "base_uri": "https://localhost:8080/"
    },
    "id": "gQdUkfIbnfse",
    "outputId": "586130d3-9248-464e-f761-1f01ab61bd00"
   },
   "outputs": [
    {
     "name": "stdout",
     "output_type": "stream",
     "text": [
      "3500\n"
     ]
    }
   ],
   "source": [
    "ROOT = Path(ROOT)\n",
    "\n",
    "train_image_path = ROOT / \"images\"\n",
    "train_mask_path = ROOT / \"masks\"\n",
    "\n",
    "ALL_IMAGES = sorted(train_image_path.glob(\"*.png\"))\n",
    "ALL_MASKS = sorted(train_mask_path.glob(\"*.png\"))\n",
    "\n",
    "assert len(ALL_IMAGES) == len(ALL_MASKS)\n",
    "\n",
    "print(len(ALL_IMAGES))"
   ]
  },
  {
   "cell_type": "code",
   "execution_count": 6,
   "metadata": {
    "id": "iO1f-y8infsf"
   },
   "outputs": [],
   "source": [
    "def seed_everything(seed=1234):\n",
    "    random.seed(seed)\n",
    "    np.random.seed(seed)\n",
    "    os.environ['PYTHONHASHSEED'] = str(seed)\n",
    "    torch.manual_seed(seed)\n",
    "    torch.cuda.manual_seed(seed)\n",
    "    torch.backends.cudnn.deterministic = True\n",
    "    torch.backends.cudnn.benchmark     = False\n",
    "\n",
    "seed_everything(SEED + STAGE)"
   ]
  },
  {
   "cell_type": "code",
   "execution_count": 7,
   "metadata": {
    "id": "Q6Ira3mbnfsg"
   },
   "outputs": [],
   "source": [
    "transform_train = A.Compose([\n",
    "    A.Resize(SIZE, SIZE, interpolation=cv2.INTER_AREA),\n",
    "    A.HorizontalFlip(p=0.5),\n",
    "    A.VerticalFlip(p=0.5),\n",
    "    A.RandomRotate90(p=0.5),\n",
    "    A.Normalize(mean=[0.485, 0.456, 0.406],\n",
    "                std=[0.229, 0.224, 0.225]),\n",
    "    ToTensorV2()\n",
    "])"
   ]
  },
  {
   "cell_type": "code",
   "execution_count": 8,
   "metadata": {
    "id": "ElvJQrlOf4Gm"
   },
   "outputs": [],
   "source": [
    "class SegmentationDataset(Dataset):\n",
    "    def __init__(\n",
    "        self,\n",
    "        images: List[Path],\n",
    "        masks: List[Path],\n",
    "        transforms: A.Compose,\n",
    "        mask_count:int=8\n",
    "    ) -> None:\n",
    "        self.images = images\n",
    "        self.masks = masks\n",
    "        self.transforms = transforms\n",
    "        self.mask_count = mask_count\n",
    "\n",
    "    def __len__(self) -> int:\n",
    "        return len(self.images)\n",
    "\n",
    "    def __getitem__(self, idx: int) -> dict:\n",
    "        image_path = self.images[idx]\n",
    "        image = cv2.imread(str(image_path))\n",
    "        image = cv2.cvtColor(image, cv2.COLOR_BGR2RGB)\n",
    "        h, w, _ = image.shape\n",
    "        \n",
    "        result = {\"image\":image, \"hw\": [h, w]}\n",
    "        \n",
    "        mask = cv2.imread(str(self.masks[idx]), 0)\n",
    "        result[\"mask\"] = mask\n",
    "\n",
    "        result = self.transforms(**result)\n",
    "\n",
    "        image = result['image']\n",
    "        mask  = result['mask']\n",
    "\n",
    "        result['image_target'] = image\n",
    "\n",
    "        inv_mask = np.ones_like(mask, dtype='uint8')\n",
    "        inv_mask[mask > 0] = 0\n",
    "\n",
    "        for _ in range(self.mask_count):\n",
    "            r1 = np.random.randint(0, h)\n",
    "            r2 = np.random.randint(1, h // self.mask_count)\n",
    "            inv_mask[r1 : r1 + r2, :] = 1\n",
    "\n",
    "            c1 = np.random.randint(0, w)\n",
    "            c2 = np.random.randint(1, w // self.mask_count)\n",
    "            inv_mask[:, c1 : c1 + c2] = 1\n",
    "\n",
    "        image = image * inv_mask[np.newaxis, ...]\n",
    "\n",
    "        result[\"mask\"]  = 1 - inv_mask\n",
    "        result[\"image\"] = image\n",
    "        \n",
    "        result[\"filename\"] = image_path.name\n",
    "\n",
    "        return result"
   ]
  },
  {
   "cell_type": "code",
   "execution_count": 9,
   "metadata": {
    "id": "wjPllg3Snfsi"
   },
   "outputs": [],
   "source": [
    "all_images = np.asarray(ALL_IMAGES)\n",
    "all_masks  = np.asarray(ALL_MASKS)\n",
    "\n",
    "dataset_train = SegmentationDataset(all_images, masks=all_masks, transforms=transform_train)"
   ]
  },
  {
   "cell_type": "code",
   "execution_count": 10,
   "metadata": {
    "id": "t0bnNOqZnfsj"
   },
   "outputs": [],
   "source": [
    "model.train()\n",
    "model.to(DEVICE)\n",
    "\n",
    "criterion = torch.nn.MSELoss()"
   ]
  },
  {
   "cell_type": "markdown",
   "metadata": {
    "id": "gB9AXmysnfsj"
   },
   "source": [
    "## Start train"
   ]
  },
  {
   "cell_type": "code",
   "execution_count": 11,
   "metadata": {
    "colab": {
     "base_uri": "https://localhost:8080/"
    },
    "id": "ruFF2rqpnfsm",
    "outputId": "28e5b41e-2d96-4d37-bcc8-7bbbbab971a9"
   },
   "outputs": [
    {
     "name": "stdout",
     "output_type": "stream",
     "text": [
      "start at 10:38:36\n",
      "10:43:18 epoch 00 loss 54.206 lr=0.00001343\n",
      "10:47:59 epoch 01 loss 0.647 lr=0.00002318\n",
      "10:52:40 epoch 02 loss 0.162 lr=0.00003778\n",
      "10:57:19 epoch 03 loss 0.093 lr=0.00005500\n",
      "11:01:59 epoch 04 loss 0.071 lr=0.00007222\n",
      "11:06:37 epoch 05 loss 0.059 lr=0.00008682\n",
      "11:11:15 epoch 06 loss 0.050 lr=0.00009657\n",
      "11:15:54 epoch 07 loss 0.046 lr=0.00010000\n",
      "11:20:33 epoch 08 loss 0.044 lr=0.00009945\n",
      "11:25:12 epoch 09 loss 0.042 lr=0.00009782\n",
      "11:29:50 epoch 10 loss 0.041 lr=0.00009515\n",
      "11:34:29 epoch 11 loss 0.039 lr=0.00009149\n",
      "11:39:07 epoch 12 loss 0.038 lr=0.00008692\n",
      "11:43:45 epoch 13 loss 0.038 lr=0.00008155\n",
      "11:48:25 epoch 14 loss 0.037 lr=0.00007550\n",
      "11:53:04 epoch 15 loss 0.036 lr=0.00006890\n",
      "11:57:44 epoch 16 loss 0.036 lr=0.00006190\n",
      "12:02:22 epoch 17 loss 0.036 lr=0.00005466\n",
      "12:07:01 epoch 18 loss 0.035 lr=0.00004734\n",
      "12:11:40 epoch 19 loss 0.034 lr=0.00004010\n",
      "12:16:19 epoch 20 loss 0.033 lr=0.00003310\n",
      "12:20:59 epoch 21 loss 0.034 lr=0.00002650\n",
      "12:25:37 epoch 22 loss 0.033 lr=0.00002045\n",
      "12:30:16 epoch 23 loss 0.033 lr=0.00001508\n",
      "12:34:56 epoch 24 loss 0.033 lr=0.00001051\n",
      "12:39:34 epoch 25 loss 0.033 lr=0.00000685\n",
      "12:44:14 epoch 26 loss 0.033 lr=0.00000418\n",
      "12:48:54 epoch 27 loss 0.033 lr=0.00000255\n",
      "12:53:36 epoch 28 loss 0.033 lr=0.00000200\n",
      "12:58:15 epoch 29 loss 0.033 lr=0.00000255\n",
      "done at 12:58:15\n"
     ]
    }
   ],
   "source": [
    "loader_train = DataLoader(\n",
    "  dataset_train,\n",
    "  batch_size=BATCHSIZE,\n",
    "  shuffle=True,\n",
    "  num_workers=2,\n",
    "  drop_last=True,\n",
    ")\n",
    "\n",
    "seed_everything(SEED + STAGE)\n",
    "\n",
    "model.to(DEVICE)\n",
    "\n",
    "for param in model.parameters():\n",
    "    param.requires_grad = True\n",
    "\n",
    "optimizer = torch.optim.AdamW(model.parameters(), lr=MAX_LR, weight_decay=1e-6)\n",
    "\n",
    "scheduler = torch.optim.lr_scheduler.OneCycleLR(optimizer, epochs=EPOCHS, max_lr=MAX_LR,\n",
    "                                                div_factor=10.0, final_div_factor=5.0,\n",
    "                                                steps_per_epoch=1)\n",
    "\n",
    "best_loss = 1e9\n",
    "print('start at', datetime.now().strftime(\"%H:%M:%S\"))\n",
    "for epoch in range(EPOCHS):\n",
    "    losses     = []\n",
    "\n",
    "    model.train()\n",
    "    torch.cuda.empty_cache()\n",
    "\n",
    "    for i, batch in enumerate(loader_train, start=1):\n",
    "        mask = batch['mask'].to(DEVICE)\n",
    "        image_target = batch['image_target'].to(DEVICE)\n",
    "        with torch.cuda.amp.autocast(enabled=True):\n",
    "            pred = model.forward(batch['image'].to(DEVICE))\n",
    "            \n",
    "            y_pred = (pred * mask.unsqueeze(1)).float()\n",
    "            y_true = (image_target * mask.unsqueeze(1)).float()\n",
    "            loss = criterion(y_pred, y_true)\n",
    "        \n",
    "        losses.append(loss.item())\n",
    "\n",
    "        optimizer.zero_grad()\n",
    "        scaler.scale(loss).backward()\n",
    "        scaler.step(optimizer)\n",
    "        scaler.update()\n",
    "        \n",
    "    scheduler.step()\n",
    "    print(datetime.now().strftime(\"%H:%M:%S\"),\n",
    "          f'epoch {epoch:02d} loss {np.mean(losses):.3f} lr={optimizer.param_groups[0][\"lr\"]:.8f}')\n",
    "\n",
    "    if best_loss >= np.mean(losses):\n",
    "        best_loss = np.mean(losses)\n",
    "        torch.save(model.state_dict(), f\"{ROOT_DRIVE}{ARCH}_{ENCODER}_{VERSION}.pth\")\n",
    "\n",
    "torch.cuda.empty_cache()\n",
    "print('done at', datetime.now().strftime(\"%H:%M:%S\"))"
   ]
  }
 ],
 "metadata": {
  "accelerator": "GPU",
  "colab": {
   "provenance": []
  },
  "gpuClass": "standard",
  "kernelspec": {
   "display_name": "Python 3",
   "language": "python",
   "name": "python3"
  },
  "language_info": {
   "codemirror_mode": {
    "name": "ipython",
    "version": 3
   },
   "file_extension": ".py",
   "mimetype": "text/x-python",
   "name": "python",
   "nbconvert_exporter": "python",
   "pygments_lexer": "ipython3",
   "version": "3.8.8"
  }
 },
 "nbformat": 4,
 "nbformat_minor": 4
}
