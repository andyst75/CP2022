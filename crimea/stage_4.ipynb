{
 "cells": [
  {
   "cell_type": "markdown",
   "metadata": {
    "id": "C_ehzCJDTxUb"
   },
   "source": [
    "# Четвертый этап обучения\n",
    "\n",
    "## Решаем задачу сегментации, дообучаем на всем датасете"
   ]
  },
  {
   "cell_type": "code",
   "execution_count": 1,
   "metadata": {
    "executionInfo": {
     "elapsed": 55674,
     "status": "ok",
     "timestamp": 1669340429443,
     "user": {
      "displayName": "Maxim Panich",
      "userId": "18004259790516144812"
     },
     "user_tz": -300
    },
    "id": "XKznVgHinjSV"
   },
   "outputs": [],
   "source": [
    "%%capture\n",
    "\n",
    "# Загрузка датасета\n",
    "try:\n",
    "    import google.colab\n",
    "    from google.colab import drive\n",
    "    drive.mount('/content/drive', force_remount=True)\n",
    "    !cp /content/drive/MyDrive/crimea/train_crimea.zip /content/\n",
    "    !unzip -oq /content/train_crimea.zip\n",
    "\n",
    "    !cp /content/drive/MyDrive/crimea/masks2.zip /content/\n",
    "    !unzip -oq /content/masks2.zip\n",
    "\n",
    "    !cp /content/drive/MyDrive/crimea/test_crimea.zip /content/\n",
    "    !unzip -oq /content/test_crimea.zip\n",
    "\n",
    "    !mkdir /content/test_masks\n",
    "\n",
    "    !python -m pip install --upgrade pip\n",
    "    !pip install -U segmentation_models_pytorch\n",
    "\n",
    "    COLAB      = True\n",
    "    ROOT       = '/content/'\n",
    "    ROOT_DRIVE = '/content/drive/MyDrive/crimea/'\n",
    "\n",
    "except:\n",
    "    COLAB      = False\n",
    "    ROOT       = './'\n",
    "    ROOT_DRIVE = './'\n"
   ]
  },
  {
   "cell_type": "code",
   "execution_count": 2,
   "metadata": {
    "colab": {
     "base_uri": "https://localhost:8080/"
    },
    "executionInfo": {
     "elapsed": 21,
     "status": "ok",
     "timestamp": 1669340429445,
     "user": {
      "displayName": "Maxim Panich",
      "userId": "18004259790516144812"
     },
     "user_tz": -300
    },
    "id": "XhKhEfYRoXt1",
    "outputId": "aea8bdc6-90f7-4a28-8310-3d88c9c15b08"
   },
   "outputs": [
    {
     "name": "stdout",
     "output_type": "stream",
     "text": [
      "Fri Nov 25 01:40:30 2022       \n",
      "+-----------------------------------------------------------------------------+\n",
      "| NVIDIA-SMI 460.32.03    Driver Version: 460.32.03    CUDA Version: 11.2     |\n",
      "|-------------------------------+----------------------+----------------------+\n",
      "| GPU  Name        Persistence-M| Bus-Id        Disp.A | Volatile Uncorr. ECC |\n",
      "| Fan  Temp  Perf  Pwr:Usage/Cap|         Memory-Usage | GPU-Util  Compute M. |\n",
      "|                               |                      |               MIG M. |\n",
      "|===============================+======================+======================|\n",
      "|   0  Tesla T4            Off  | 00000000:00:04.0 Off |                    0 |\n",
      "| N/A   39C    P8    10W /  70W |      0MiB / 15109MiB |      0%      Default |\n",
      "|                               |                      |                  N/A |\n",
      "+-------------------------------+----------------------+----------------------+\n",
      "                                                                               \n",
      "+-----------------------------------------------------------------------------+\n",
      "| Processes:                                                                  |\n",
      "|  GPU   GI   CI        PID   Type   Process name                  GPU Memory |\n",
      "|        ID   ID                                                   Usage      |\n",
      "|=============================================================================|\n",
      "|  No running processes found                                                 |\n",
      "+-----------------------------------------------------------------------------+\n"
     ]
    }
   ],
   "source": [
    "!nvidia-smi"
   ]
  },
  {
   "cell_type": "code",
   "execution_count": 3,
   "metadata": {
    "executionInfo": {
     "elapsed": 6426,
     "status": "ok",
     "timestamp": 1669340435859,
     "user": {
      "displayName": "Maxim Panich",
      "userId": "18004259790516144812"
     },
     "user_tz": -300
    },
    "id": "Q9kjOjiknfsb"
   },
   "outputs": [],
   "source": [
    "import os\n",
    "import glob\n",
    "import random\n",
    "import warnings\n",
    "from pathlib import Path\n",
    "from typing import List\n",
    "from datetime import datetime\n",
    "\n",
    "import cv2\n",
    "import numpy as np\n",
    "import pandas as pd\n",
    "import torch\n",
    "import torch.nn as nn\n",
    "from torch.utils.data import Dataset, DataLoader\n",
    "\n",
    "import albumentations as A\n",
    "from albumentations.pytorch import ToTensorV2\n",
    "import segmentation_models_pytorch as smp\n",
    "from sklearn.model_selection import train_test_split\n",
    "\n",
    "\n",
    "SEED = 1\n",
    "STAGE = 4\n",
    "DEVICE = 'cuda'\n",
    "EPOCHS = 12\n",
    "MAX_LR = 2e-5\n",
    "BATCHSIZE = 2\n",
    "\n",
    "GRAD_ACC_STEPS = 8\n",
    "\n",
    "ARCH = 'DeepLabV3Plus'\n",
    "ENCODER = 'tu-xception71'\n",
    "PREVIOUS= f'stage_{STAGE - 1}'\n",
    "VERSION = f'stage_{STAGE}'\n",
    "\n",
    "warnings.filterwarnings(\"ignore\", 'User provided device_type of \\'cuda\\', but CUDA is not available. Disabling')\n",
    "warnings.filterwarnings(\"ignore\", 'torch.cuda.amp.GradScaler is enabled, but CUDA is not available.  Disabling.')"
   ]
  },
  {
   "cell_type": "code",
   "execution_count": 4,
   "metadata": {
    "executionInfo": {
     "elapsed": 3980,
     "status": "ok",
     "timestamp": 1669340439829,
     "user": {
      "displayName": "Maxim Panich",
      "userId": "18004259790516144812"
     },
     "user_tz": -300
    },
    "id": "pEmCAHmDQhNz"
   },
   "outputs": [],
   "source": [
    "model = smp.DeepLabV3Plus(encoder_name=ENCODER,\n",
    "                          encoder_weights=None, classes=4)\n",
    "\n",
    "model.load_state_dict(torch.load(f\"{ROOT_DRIVE}{ARCH}_{ENCODER}_{PREVIOUS}.pth\",\n",
    "                                 map_location='cpu'))\n",
    "\n",
    "scaler = torch.cuda.amp.GradScaler()"
   ]
  },
  {
   "cell_type": "code",
   "execution_count": 5,
   "metadata": {
    "colab": {
     "base_uri": "https://localhost:8080/"
    },
    "executionInfo": {
     "elapsed": 16,
     "status": "ok",
     "timestamp": 1669340439829,
     "user": {
      "displayName": "Maxim Panich",
      "userId": "18004259790516144812"
     },
     "user_tz": -300
    },
    "id": "gQdUkfIbnfse",
    "outputId": "a524c019-aeb1-436d-dc12-07e6f7b8ce83"
   },
   "outputs": [
    {
     "name": "stdout",
     "output_type": "stream",
     "text": [
      "3500\n"
     ]
    }
   ],
   "source": [
    "ROOT = Path(ROOT)\n",
    "\n",
    "train_image_path = ROOT / \"images\"\n",
    "train_mask_path = ROOT / \"masks2\"\n",
    "\n",
    "ALL_IMAGES = sorted(train_image_path.glob(\"*.png\"))\n",
    "ALL_MASKS = sorted(train_mask_path.glob(\"*.png\"))\n",
    "\n",
    "assert len(ALL_IMAGES) == len(ALL_MASKS)\n",
    "\n",
    "print(len(ALL_IMAGES))"
   ]
  },
  {
   "cell_type": "code",
   "execution_count": 6,
   "metadata": {
    "executionInfo": {
     "elapsed": 13,
     "status": "ok",
     "timestamp": 1669340439829,
     "user": {
      "displayName": "Maxim Panich",
      "userId": "18004259790516144812"
     },
     "user_tz": -300
    },
    "id": "iO1f-y8infsf"
   },
   "outputs": [],
   "source": [
    "def seed_everything(seed=1234):\n",
    "    random.seed(seed)\n",
    "    np.random.seed(seed)\n",
    "    os.environ['PYTHONHASHSEED'] = str(seed)\n",
    "    torch.manual_seed(seed)\n",
    "    torch.cuda.manual_seed(seed)\n",
    "    torch.backends.cudnn.deterministic = True\n",
    "    torch.backends.cudnn.benchmark     = False\n",
    "\n",
    "seed_everything(SEED + STAGE)"
   ]
  },
  {
   "cell_type": "code",
   "execution_count": 7,
   "metadata": {
    "executionInfo": {
     "elapsed": 13,
     "status": "ok",
     "timestamp": 1669340439830,
     "user": {
      "displayName": "Maxim Panich",
      "userId": "18004259790516144812"
     },
     "user_tz": -300
    },
    "id": "Q6Ira3mbnfsg"
   },
   "outputs": [],
   "source": [
    "transform_train = A.Compose([\n",
    "    A.ShiftScaleRotate(shift_limit  = 0.05,\n",
    "                       scale_limit  = 0.05,\n",
    "                       rotate_limit = 15,\n",
    "                       p=1.0),\n",
    "    A.Resize(1024, 1024, interpolation=cv2.INTER_AREA),\n",
    "    A.HorizontalFlip(p=0.5),\n",
    "    A.VerticalFlip(p=0.5),\n",
    "    A.RandomRotate90(p=0.5),\n",
    "    A.PiecewiseAffine(p=0.5),\n",
    "    A.OneOf([\n",
    "        A.CLAHE(clip_limit=2, p=1),\n",
    "        A.Sharpen(p=1),\n",
    "        A.Emboss(p=1),\n",
    "    ], p=0.3),\n",
    "    A.ColorJitter(hue=0.03, p=1.0),\n",
    "    A.Normalize(mean=[0.485, 0.456, 0.406],\n",
    "                std=[0.229, 0.224, 0.225]),\n",
    "    ToTensorV2()\n",
    "])\n",
    "\n",
    "transform_val = A.Compose([\n",
    "    A.Resize(1024, 1024, interpolation=cv2.INTER_AREA),\n",
    "    A.Normalize(mean=[0.485, 0.456, 0.406],\n",
    "                std=[0.229, 0.224, 0.225]),\n",
    "    ToTensorV2()\n",
    "])"
   ]
  },
  {
   "cell_type": "code",
   "execution_count": 8,
   "metadata": {
    "executionInfo": {
     "elapsed": 12,
     "status": "ok",
     "timestamp": 1669340439830,
     "user": {
      "displayName": "Maxim Panich",
      "userId": "18004259790516144812"
     },
     "user_tz": -300
    },
    "id": "ElvJQrlOf4Gm"
   },
   "outputs": [],
   "source": [
    "class SegmentationDataset(Dataset):\n",
    "    def __init__(\n",
    "        self,\n",
    "        images: List[Path],\n",
    "        masks: List[Path] = None,\n",
    "        transforms=None\n",
    "    ) -> None:\n",
    "        self.images = images\n",
    "        self.masks = masks\n",
    "        self.transforms = transforms\n",
    "\n",
    "    def __len__(self) -> int:\n",
    "        return len(self.images)\n",
    "\n",
    "    def __getitem__(self, idx: int) -> dict:\n",
    "        image_path = self.images[idx]\n",
    "        image = cv2.imread(str(image_path))\n",
    "        image = cv2.cvtColor(image, cv2.COLOR_BGR2RGB)\n",
    "        h, w, _ = image.shape\n",
    "        \n",
    "        result = {\"image\": image, \"hw\": [h, w]}\n",
    "        \n",
    "        if self.masks is not None:\n",
    "            mask = cv2.imread(str(self.masks[idx]), 0)\n",
    "            result[\"mask\"] = mask\n",
    "        \n",
    "        if self.transforms is not None:\n",
    "            result = self.transforms(**result)\n",
    "        \n",
    "        result[\"filename\"] = image_path.name\n",
    "\n",
    "        return result"
   ]
  },
  {
   "cell_type": "code",
   "execution_count": 9,
   "metadata": {
    "executionInfo": {
     "elapsed": 12,
     "status": "ok",
     "timestamp": 1669340439831,
     "user": {
      "displayName": "Maxim Panich",
      "userId": "18004259790516144812"
     },
     "user_tz": -300
    },
    "id": "wjPllg3Snfsi"
   },
   "outputs": [],
   "source": [
    "all_images = np.asarray(ALL_IMAGES)\n",
    "all_masks  = np.asarray(ALL_MASKS)\n",
    "\n",
    "train_img, test_img, train_mask, test_mask = train_test_split(all_images, all_masks,\n",
    "                                                              random_state=SEED, test_size=0.25)\n",
    "\n",
    "train_img = train_img.tolist()\n",
    "train_mask = train_mask.tolist()\n",
    "\n",
    "train_img += test_img.tolist()\n",
    "train_mask += test_mask.tolist()\n",
    "\n",
    "dataset_train = SegmentationDataset(train_img, masks=train_mask, transforms=transform_train)\n",
    "dataset_val   = SegmentationDataset(test_img, masks=test_mask, transforms=transform_val)"
   ]
  },
  {
   "cell_type": "code",
   "execution_count": 10,
   "metadata": {
    "executionInfo": {
     "elapsed": 5472,
     "status": "ok",
     "timestamp": 1669340445293,
     "user": {
      "displayName": "Maxim Panich",
      "userId": "18004259790516144812"
     },
     "user_tz": -300
    },
    "id": "t0bnNOqZnfsj"
   },
   "outputs": [],
   "source": [
    "model.train()\n",
    "model.to(DEVICE)\n",
    "\n",
    "dice      = smp.losses.DiceLoss(mode='multiclass', classes=[1, 2, 3],\n",
    "                                log_loss=False, from_logits=True,\n",
    "                                smooth=1.0, eps=1e-08)\n",
    "criterion = torch.nn.BCEWithLogitsLoss()\n",
    "\n",
    "iou       = smp.losses.JaccardLoss(mode='multiclass',\n",
    "                                   classes=[1, 2, 3], log_loss=False,\n",
    "                                   smooth=1.0)"
   ]
  },
  {
   "cell_type": "markdown",
   "metadata": {
    "id": "gB9AXmysnfsj"
   },
   "source": [
    "## Start train"
   ]
  },
  {
   "cell_type": "code",
   "execution_count": null,
   "metadata": {
    "colab": {
     "base_uri": "https://localhost:8080/"
    },
    "id": "ruFF2rqpnfsm",
    "outputId": "27979cf0-db5a-4a9f-9ac3-32d28bb04075"
   },
   "outputs": [
    {
     "name": "stdout",
     "output_type": "stream",
     "text": [
      "start at 01:40:46\n",
      "02:21:38 epoch 00 loss 0.034 bce 0.083 dice 0.025 lr=0.00002000\n",
      "02:25:40 valid    loss 0.327 bce 0.661 dice 0.195 metric 0.725\n",
      "Save model\n",
      "03:07:22 epoch 01 loss 0.034 bce 0.083 dice 0.025 lr=0.00002000\n",
      "03:11:23 valid    loss 0.328 bce 0.662 dice 0.196 metric 0.723\n",
      "03:53:19 epoch 02 loss 0.034 bce 0.083 dice 0.025 lr=0.00002000\n",
      "03:57:20 valid    loss 0.319 bce 0.661 dice 0.187 metric 0.735\n",
      "Save model\n",
      "04:36:38 epoch 03 loss 0.033 bce 0.083 dice 0.025 lr=0.00002000\n",
      "04:40:40 valid    loss 0.322 bce 0.661 dice 0.190 metric 0.731\n",
      "05:22:11 epoch 04 loss 0.033 bce 0.083 dice 0.025 lr=0.00002000\n",
      "05:26:12 valid    loss 0.323 bce 0.661 dice 0.190 metric 0.731\n",
      "06:07:35 epoch 05 loss 0.033 bce 0.083 dice 0.025 lr=0.00002000\n",
      "06:11:36 valid    loss 0.331 bce 0.662 dice 0.198 metric 0.718\n",
      "Reload model\n",
      "06:50:41 epoch 06 loss 0.033 bce 0.083 dice 0.025 lr=0.00002000\n",
      "06:54:41 valid    loss 0.321 bce 0.661 dice 0.189 metric 0.733\n",
      "07:33:31 epoch 07 loss 0.033 bce 0.083 dice 0.025 lr=0.00002000\n",
      "07:37:31 valid    loss 0.322 bce 0.661 dice 0.190 metric 0.731\n",
      "08:16:58 epoch 08 loss 0.033 bce 0.083 dice 0.025 lr=0.00002000\n",
      "08:20:59 valid    loss 0.319 bce 0.661 dice 0.187 metric 0.735\n",
      "Reload model\n",
      "09:00:29 epoch 09 loss 0.033 bce 0.083 dice 0.025 lr=0.00002000\n",
      "09:04:31 valid    loss 0.332 bce 0.662 dice 0.200 metric 0.719\n",
      "09:44:55 epoch 10 loss 0.033 bce 0.083 dice 0.025 lr=0.00002000\n",
      "09:48:57 valid    loss 0.320 bce 0.661 dice 0.188 metric 0.733\n"
     ]
    }
   ],
   "source": [
    "loader_train = DataLoader(\n",
    "  dataset_train,\n",
    "  batch_size=BATCHSIZE,\n",
    "  shuffle=True,\n",
    "  num_workers=2,\n",
    "  drop_last=True,\n",
    ")\n",
    "\n",
    "loader_val = DataLoader(\n",
    "  dataset_val,\n",
    "  batch_size=BATCHSIZE,\n",
    "  shuffle=False,\n",
    "  num_workers=2,\n",
    "  drop_last=False,\n",
    ")\n",
    "\n",
    "seed_everything(SEED + STAGE)\n",
    "\n",
    "optimizer = torch.optim.AdamW(model.parameters(),\n",
    "                              lr=MAX_LR,\n",
    "                              weight_decay=1e-4)\n",
    "\n",
    "print('start at', datetime.now().strftime(\"%H:%M:%S\"))\n",
    "best_metric = 0.0\n",
    "best_cnt    = 0\n",
    "optimizer.zero_grad()\n",
    "for epoch in range(EPOCHS):\n",
    "    losses     = []\n",
    "    losses_bce = []\n",
    "    losses_dc  = []\n",
    "\n",
    "    model.train()\n",
    "    torch.cuda.empty_cache()\n",
    "\n",
    "    for i, batch in enumerate(loader_train, start=1):\n",
    "        mask = batch['mask'].to(DEVICE)\n",
    "        with torch.cuda.amp.autocast(enabled=True):\n",
    "            pred = model.forward(batch['image'].to(DEVICE))\n",
    "            \n",
    "            dc = dice(pred, mask.long())\n",
    "            y_pred = (pred.argmax(dim=1) > 0).float()\n",
    "            y_true = (mask > 0).float()\n",
    "            bce = criterion(y_pred, y_true)\n",
    "            \n",
    "            loss = dc + bce * 0.1\n",
    "        \n",
    "        losses.append(loss.item() / GRAD_ACC_STEPS)\n",
    "        losses_bce.append(bce.item() / GRAD_ACC_STEPS)\n",
    "        losses_dc.append(dc.item() / GRAD_ACC_STEPS)\n",
    "\n",
    "        loss = loss / GRAD_ACC_STEPS\n",
    "        scaler.scale(loss).backward()\n",
    "\n",
    "        if i % GRAD_ACC_STEPS == 0:\n",
    "            scaler.step(optimizer)\n",
    "            scaler.update()\n",
    "            optimizer.zero_grad()\n",
    "        \n",
    "    print(datetime.now().strftime(\"%H:%M:%S\"),\n",
    "          f'epoch {epoch:02d} loss {np.mean(losses):.3f} bce {np.mean(losses_bce):.3f} '\n",
    "          f'dice {np.mean(losses_dc):.3f} lr={optimizer.param_groups[0][\"lr\"]:.8f}')\n",
    "\n",
    "    val_losses     = []\n",
    "    val_losses_bce = []\n",
    "    val_losses_dc  = []\n",
    "    metrics        = []\n",
    "    model.eval()\n",
    "    torch.cuda.empty_cache()\n",
    "    with torch.no_grad():\n",
    "        for batch in loader_val:\n",
    "            pred = model.forward(batch['image'].to(DEVICE))\n",
    "            mask = batch['mask'].to(DEVICE)\n",
    "\n",
    "            dc = dice(pred, mask.long())\n",
    "            y_pred = (pred.argmax(dim=1) > 0).float()\n",
    "            y_true = (mask > 0).float()\n",
    "            bce = criterion(y_pred, y_true)\n",
    "\n",
    "            loss = dc + bce * 0.2\n",
    "            metric = 1 - iou(pred, mask.long()).item()\n",
    "\n",
    "            val_losses.append(loss.item())\n",
    "            val_losses_bce.append(bce.item())\n",
    "            val_losses_dc.append(dc.item())\n",
    "\n",
    "            metrics.append(metric)\n",
    "\n",
    "    print(datetime.now().strftime(\"%H:%M:%S\"), f'valid    loss {np.mean(val_losses):.3f} bce {np.mean(val_losses_bce):.3f} '\n",
    "          f'dice {np.mean(val_losses_dc):.3f} metric {np.mean(metrics):.3f}')\n",
    "\n",
    "    best_cnt += 1\n",
    "    if best_metric <= np.mean(metrics):\n",
    "        best_cnt    = 0\n",
    "        best_metric = np.mean(metrics)\n",
    "        torch.save(model.state_dict(), f\"{ROOT_DRIVE}{ARCH}_{ENCODER}_{VERSION}.pth\")\n",
    "        print('Save model')\n",
    "    if best_cnt > 2:\n",
    "        best_cnt = 0\n",
    "        model.load_state_dict(torch.load(f\"{ROOT_DRIVE}{ARCH}_{ENCODER}_{VERSION}.pth\", map_location='cpu'))\n",
    "        print('Reload model')\n",
    "\n",
    "\n",
    "torch.cuda.empty_cache()\n",
    "print('done at', datetime.now().strftime(\"%H:%M:%S\"))\n",
    "# 0.806811"
   ]
  },
  {
   "cell_type": "markdown",
   "metadata": {
    "id": "JX9hoRMdR0M2"
   },
   "source": [
    "## Делаем прогноз"
   ]
  },
  {
   "cell_type": "code",
   "execution_count": null,
   "metadata": {
    "id": "7iN2g9GPRx2o"
   },
   "outputs": [],
   "source": [
    "model.load_state_dict(torch.load(f\"{ROOT_DRIVE}{ARCH}_{ENCODER}_{VERSION}.pth\",\n",
    "                                 map_location='cpu'))\n",
    "model.eval()\n",
    "model.to(DEVICE)\n",
    "\n",
    "transform_test = A.Compose([\n",
    "    A.Resize(1024, 1024, interpolation=cv2.INTER_AREA),\n",
    "    A.Normalize(mean=[0.485, 0.456, 0.406],\n",
    "                std=[0.229, 0.224, 0.225]),\n",
    "    ToTensorV2()\n",
    "])\n",
    "\n",
    "test_image_path = Path(ROOT) / \"test\"\n",
    "\n",
    "with torch.no_grad():\n",
    "    torch.cuda.empty_cache()\n",
    "    for i, image_path in enumerate(sorted(test_image_path.glob(\"*.png\"))):\n",
    "        if i % 100 == 0:\n",
    "            print(f\"{i:04d} {image_path}\")\n",
    "\n",
    "        img = cv2.imread(str(image_path))\n",
    "        img = cv2.cvtColor(img, cv2.COLOR_BGR2RGB)\n",
    "        h, w, _ = img.shape\n",
    "        \n",
    "        img  = transform_test(image=img)['image'].unsqueeze(0).to(DEVICE)\n",
    "        pred = model.forward(img)\n",
    "        mask = torch.argmax(pred, dim=1).squeeze().cpu().numpy()\n",
    "        mask = cv2.resize(mask, (w, h), 0, 0, interpolation=cv2.INTER_NEAREST)\n",
    "                \n",
    "        cv2.imwrite(f'{str(ROOT)}/test_masks/{image_path.name}', mask)\n",
    "\n",
    "print('done')"
   ]
  },
  {
   "cell_type": "code",
   "execution_count": null,
   "metadata": {
    "id": "gee_DNuoSPg5"
   },
   "outputs": [],
   "source": [
    "if COLAB:\n",
    "    %cd /content/test_masks/\n",
    "    !zip -q ../test_masks_4.zip *.png\n",
    "    !cp ../test_masks_3.zip /content/drive/MyDrive/crimea/"
   ]
  }
 ],
 "metadata": {
  "accelerator": "GPU",
  "colab": {
   "provenance": []
  },
  "gpuClass": "standard",
  "kernelspec": {
   "display_name": "lab",
   "language": "python",
   "name": "lab"
  },
  "language_info": {
   "codemirror_mode": {
    "name": "ipython",
    "version": 3
   },
   "file_extension": ".py",
   "mimetype": "text/x-python",
   "name": "python",
   "nbconvert_exporter": "python",
   "pygments_lexer": "ipython3",
   "version": "3.9.13"
  }
 },
 "nbformat": 4,
 "nbformat_minor": 4
}
