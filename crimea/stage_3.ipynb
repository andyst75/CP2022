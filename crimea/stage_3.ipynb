{
 "cells": [
  {
   "cell_type": "markdown",
   "metadata": {
    "id": "C_ehzCJDTxUb"
   },
   "source": [
    "# Третий этап обучения\n",
    "\n",
    "## Решаем задачу сегментации, повышая разрешение изображения до 1024x1024"
   ]
  },
  {
   "cell_type": "code",
   "execution_count": 1,
   "metadata": {
    "executionInfo": {
     "elapsed": 54150,
     "status": "ok",
     "timestamp": 1669273262998,
     "user": {
      "displayName": "Maxim Panich",
      "userId": "18004259790516144812"
     },
     "user_tz": -300
    },
    "id": "XKznVgHinjSV"
   },
   "outputs": [],
   "source": [
    "%%capture\n",
    "\n",
    "# Загрузка датасета\n",
    "try:\n",
    "    import google.colab\n",
    "    from google.colab import drive\n",
    "    drive.mount('/content/drive', force_remount=True)\n",
    "    !cp /content/drive/MyDrive/crimea/train_crimea.zip /content/\n",
    "    !unzip -oq /content/train_crimea.zip\n",
    "\n",
    "    !cp /content/drive/MyDrive/crimea/masks2.zip /content/\n",
    "    !unzip -oq /content/masks2.zip\n",
    "\n",
    "    !cp /content/drive/MyDrive/crimea/test_crimea.zip /content/\n",
    "    !unzip -oq /content/test_crimea.zip\n",
    "\n",
    "    !mkdir /content/test_masks\n",
    "\n",
    "    !python -m pip install --upgrade pip\n",
    "    !pip install -U segmentation_models_pytorch\n",
    "\n",
    "    COLAB      = True\n",
    "    ROOT       = '/content/'\n",
    "    ROOT_DRIVE = '/content/drive/MyDrive/crimea/'\n",
    "\n",
    "except:\n",
    "    COLAB      = False\n",
    "    ROOT       = './'\n",
    "    ROOT_DRIVE = './'\n"
   ]
  },
  {
   "cell_type": "code",
   "execution_count": 2,
   "metadata": {
    "colab": {
     "base_uri": "https://localhost:8080/"
    },
    "executionInfo": {
     "elapsed": 1002,
     "status": "ok",
     "timestamp": 1669273263994,
     "user": {
      "displayName": "Maxim Panich",
      "userId": "18004259790516144812"
     },
     "user_tz": -300
    },
    "id": "XhKhEfYRoXt1",
    "outputId": "33a11d52-f9a1-495a-8cc2-9b77491032b8"
   },
   "outputs": [
    {
     "name": "stdout",
     "output_type": "stream",
     "text": [
      "Thu Nov 24 07:01:03 2022       \n",
      "+-----------------------------------------------------------------------------+\n",
      "| NVIDIA-SMI 460.32.03    Driver Version: 460.32.03    CUDA Version: 11.2     |\n",
      "|-------------------------------+----------------------+----------------------+\n",
      "| GPU  Name        Persistence-M| Bus-Id        Disp.A | Volatile Uncorr. ECC |\n",
      "| Fan  Temp  Perf  Pwr:Usage/Cap|         Memory-Usage | GPU-Util  Compute M. |\n",
      "|                               |                      |               MIG M. |\n",
      "|===============================+======================+======================|\n",
      "|   0  A100-SXM4-40GB      Off  | 00000000:00:04.0 Off |                    0 |\n",
      "| N/A   28C    P0    44W / 400W |      0MiB / 40536MiB |      0%      Default |\n",
      "|                               |                      |             Disabled |\n",
      "+-------------------------------+----------------------+----------------------+\n",
      "                                                                               \n",
      "+-----------------------------------------------------------------------------+\n",
      "| Processes:                                                                  |\n",
      "|  GPU   GI   CI        PID   Type   Process name                  GPU Memory |\n",
      "|        ID   ID                                                   Usage      |\n",
      "|=============================================================================|\n",
      "|  No running processes found                                                 |\n",
      "+-----------------------------------------------------------------------------+\n"
     ]
    }
   ],
   "source": [
    "!nvidia-smi"
   ]
  },
  {
   "cell_type": "code",
   "execution_count": 3,
   "metadata": {
    "executionInfo": {
     "elapsed": 5737,
     "status": "ok",
     "timestamp": 1669273269726,
     "user": {
      "displayName": "Maxim Panich",
      "userId": "18004259790516144812"
     },
     "user_tz": -300
    },
    "id": "Q9kjOjiknfsb"
   },
   "outputs": [],
   "source": [
    "import os\n",
    "import glob\n",
    "import random\n",
    "import warnings\n",
    "from pathlib import Path\n",
    "from typing import List\n",
    "from datetime import datetime\n",
    "\n",
    "import cv2\n",
    "import numpy as np\n",
    "import pandas as pd\n",
    "import torch\n",
    "import torch.nn as nn\n",
    "from torch.utils.data import Dataset, DataLoader\n",
    "\n",
    "import albumentations as A\n",
    "from albumentations.pytorch import ToTensorV2\n",
    "import segmentation_models_pytorch as smp\n",
    "from sklearn.model_selection import train_test_split\n",
    "\n",
    "\n",
    "SEED = 1\n",
    "STAGE = 3\n",
    "DEVICE = 'cuda'\n",
    "EPOCHS = 24\n",
    "MAX_LR = 2e-4\n",
    "BATCHSIZE = 6\n",
    "\n",
    "GRAD_ACC_STEPS = 8\n",
    "\n",
    "ARCH = 'DeepLabV3Plus'\n",
    "ENCODER = 'tu-xception71'\n",
    "PREVIOUS= f'stage_{STAGE - 1}'\n",
    "VERSION = f'stage_{STAGE}'\n",
    "\n",
    "warnings.filterwarnings(\"ignore\", 'User provided device_type of \\'cuda\\', but CUDA is not available. Disabling')\n",
    "warnings.filterwarnings(\"ignore\", 'torch.cuda.amp.GradScaler is enabled, but CUDA is not available.  Disabling.')"
   ]
  },
  {
   "cell_type": "code",
   "execution_count": 4,
   "metadata": {
    "executionInfo": {
     "elapsed": 3103,
     "status": "ok",
     "timestamp": 1669273272825,
     "user": {
      "displayName": "Maxim Panich",
      "userId": "18004259790516144812"
     },
     "user_tz": -300
    },
    "id": "pEmCAHmDQhNz"
   },
   "outputs": [],
   "source": [
    "model = smp.DeepLabV3Plus(encoder_name=ENCODER,\n",
    "                          encoder_weights=None, classes=4)\n",
    "\n",
    "model.load_state_dict(torch.load(f\"{ROOT_DRIVE}{ARCH}_{ENCODER}_{PREVIOUS}.pth\",\n",
    "                                 map_location='cpu'))\n",
    "\n",
    "scaler = torch.cuda.amp.GradScaler()"
   ]
  },
  {
   "cell_type": "code",
   "execution_count": 5,
   "metadata": {
    "colab": {
     "base_uri": "https://localhost:8080/"
    },
    "executionInfo": {
     "elapsed": 14,
     "status": "ok",
     "timestamp": 1669273272826,
     "user": {
      "displayName": "Maxim Panich",
      "userId": "18004259790516144812"
     },
     "user_tz": -300
    },
    "id": "gQdUkfIbnfse",
    "outputId": "1cc5ac6a-515d-4967-e235-6f762755a225"
   },
   "outputs": [
    {
     "name": "stdout",
     "output_type": "stream",
     "text": [
      "3500\n"
     ]
    }
   ],
   "source": [
    "ROOT = Path(ROOT)\n",
    "\n",
    "train_image_path = ROOT / \"images\"\n",
    "train_mask_path = ROOT / \"masks2\"\n",
    "\n",
    "ALL_IMAGES = sorted(train_image_path.glob(\"*.png\"))\n",
    "ALL_MASKS = sorted(train_mask_path.glob(\"*.png\"))\n",
    "\n",
    "assert len(ALL_IMAGES) == len(ALL_MASKS)\n",
    "\n",
    "print(len(ALL_IMAGES))"
   ]
  },
  {
   "cell_type": "code",
   "execution_count": 6,
   "metadata": {
    "executionInfo": {
     "elapsed": 12,
     "status": "ok",
     "timestamp": 1669273272827,
     "user": {
      "displayName": "Maxim Panich",
      "userId": "18004259790516144812"
     },
     "user_tz": -300
    },
    "id": "iO1f-y8infsf"
   },
   "outputs": [],
   "source": [
    "def seed_everything(seed=1234):\n",
    "    random.seed(seed)\n",
    "    np.random.seed(seed)\n",
    "    os.environ['PYTHONHASHSEED'] = str(seed)\n",
    "    torch.manual_seed(seed)\n",
    "    torch.cuda.manual_seed(seed)\n",
    "    torch.backends.cudnn.deterministic = True\n",
    "    torch.backends.cudnn.benchmark     = False\n",
    "\n",
    "seed_everything(SEED + STAGE)"
   ]
  },
  {
   "cell_type": "code",
   "execution_count": 7,
   "metadata": {
    "executionInfo": {
     "elapsed": 11,
     "status": "ok",
     "timestamp": 1669273272827,
     "user": {
      "displayName": "Maxim Panich",
      "userId": "18004259790516144812"
     },
     "user_tz": -300
    },
    "id": "Q6Ira3mbnfsg"
   },
   "outputs": [],
   "source": [
    "transform_train = A.Compose([\n",
    "    A.ShiftScaleRotate(shift_limit  = 0.05,\n",
    "                       scale_limit  = 0.05,\n",
    "                       rotate_limit = 15,\n",
    "                       p=1.0),\n",
    "    A.Resize(1024, 1024, interpolation=cv2.INTER_AREA),\n",
    "    A.HorizontalFlip(p=0.5),\n",
    "    A.VerticalFlip(p=0.5),\n",
    "    A.RandomRotate90(p=0.5),\n",
    "    A.PiecewiseAffine(p=0.5),\n",
    "    A.OneOf([\n",
    "        A.CLAHE(clip_limit=2, p=1),\n",
    "        A.Sharpen(p=1),\n",
    "        A.Emboss(p=1),\n",
    "    ], p=0.3),\n",
    "    A.ColorJitter(hue=0.03, p=1.0),\n",
    "    A.Normalize(mean=[0.485, 0.456, 0.406],\n",
    "                std=[0.229, 0.224, 0.225]),\n",
    "    ToTensorV2()\n",
    "])\n",
    "\n",
    "transform_val = A.Compose([\n",
    "    A.Resize(1024, 1024, interpolation=cv2.INTER_AREA),\n",
    "    A.Normalize(mean=[0.485, 0.456, 0.406],\n",
    "                std=[0.229, 0.224, 0.225]),\n",
    "    ToTensorV2()\n",
    "])"
   ]
  },
  {
   "cell_type": "code",
   "execution_count": 8,
   "metadata": {
    "executionInfo": {
     "elapsed": 11,
     "status": "ok",
     "timestamp": 1669273272828,
     "user": {
      "displayName": "Maxim Panich",
      "userId": "18004259790516144812"
     },
     "user_tz": -300
    },
    "id": "ElvJQrlOf4Gm"
   },
   "outputs": [],
   "source": [
    "class SegmentationDataset(Dataset):\n",
    "    def __init__(\n",
    "        self,\n",
    "        images: List[Path],\n",
    "        masks: List[Path] = None,\n",
    "        transforms=None\n",
    "    ) -> None:\n",
    "        self.images = images\n",
    "        self.masks = masks\n",
    "        self.transforms = transforms\n",
    "\n",
    "    def __len__(self) -> int:\n",
    "        return len(self.images)\n",
    "\n",
    "    def __getitem__(self, idx: int) -> dict:\n",
    "        image_path = self.images[idx]\n",
    "        image = cv2.imread(str(image_path))\n",
    "        image = cv2.cvtColor(image, cv2.COLOR_BGR2RGB)\n",
    "        h, w, _ = image.shape\n",
    "        \n",
    "        result = {\"image\": image, \"hw\": [h, w]}\n",
    "        \n",
    "        if self.masks is not None:\n",
    "            mask = cv2.imread(str(self.masks[idx]), 0)\n",
    "            result[\"mask\"] = mask\n",
    "        \n",
    "        if self.transforms is not None:\n",
    "            result = self.transforms(**result)\n",
    "        \n",
    "        result[\"filename\"] = image_path.name\n",
    "\n",
    "        return result"
   ]
  },
  {
   "cell_type": "code",
   "execution_count": 9,
   "metadata": {
    "executionInfo": {
     "elapsed": 10,
     "status": "ok",
     "timestamp": 1669273272828,
     "user": {
      "displayName": "Maxim Panich",
      "userId": "18004259790516144812"
     },
     "user_tz": -300
    },
    "id": "wjPllg3Snfsi"
   },
   "outputs": [],
   "source": [
    "all_images = np.asarray(ALL_IMAGES)\n",
    "all_masks  = np.asarray(ALL_MASKS)\n",
    "\n",
    "train_img, test_img, train_mask, test_mask = train_test_split(all_images, all_masks,\n",
    "                                                              random_state=SEED, test_size=0.05)\n",
    "\n",
    "dataset_train = SegmentationDataset(train_img, masks=train_mask, transforms=transform_train)\n",
    "dataset_val   = SegmentationDataset(test_img, masks=test_mask, transforms=transform_val)"
   ]
  },
  {
   "cell_type": "code",
   "execution_count": 10,
   "metadata": {
    "executionInfo": {
     "elapsed": 4644,
     "status": "ok",
     "timestamp": 1669273285941,
     "user": {
      "displayName": "Maxim Panich",
      "userId": "18004259790516144812"
     },
     "user_tz": -300
    },
    "id": "t0bnNOqZnfsj"
   },
   "outputs": [],
   "source": [
    "model.train()\n",
    "model.to(DEVICE)\n",
    "\n",
    "dice      = smp.losses.DiceLoss(mode='multiclass', classes=[1, 2, 3],\n",
    "                                log_loss=False, from_logits=True,\n",
    "                                smooth=1.0, eps=1e-08)\n",
    "criterion = torch.nn.BCEWithLogitsLoss()\n",
    "\n",
    "iou       = smp.losses.JaccardLoss(mode='multiclass',\n",
    "                                   classes=[1, 2, 3], log_loss=False,\n",
    "                                   smooth=1.0)"
   ]
  },
  {
   "cell_type": "markdown",
   "metadata": {
    "id": "gB9AXmysnfsj"
   },
   "source": [
    "## Start train"
   ]
  },
  {
   "cell_type": "code",
   "execution_count": 11,
   "metadata": {
    "colab": {
     "base_uri": "https://localhost:8080/"
    },
    "executionInfo": {
     "elapsed": 42412512,
     "status": "ok",
     "timestamp": 1669315700986,
     "user": {
      "displayName": "Maxim Panich",
      "userId": "18004259790516144812"
     },
     "user_tz": -300
    },
    "id": "ruFF2rqpnfsm",
    "outputId": "9e3621d4-13ea-43eb-ff21-7cd71491403f"
   },
   "outputs": [
    {
     "name": "stdout",
     "output_type": "stream",
     "text": [
      "start at 07:01:28\n",
      "07:30:21 epoch 00 loss 0.035 bce 0.083 dice 0.026 lr=0.00019659\n",
      "07:30:27 valid    loss 0.321 bce 0.662 dice 0.189 metric 0.709\n",
      "Save model\n",
      "08:00:13 epoch 01 loss 0.034 bce 0.083 dice 0.025 lr=0.00018660\n",
      "08:00:19 valid    loss 0.325 bce 0.662 dice 0.192 metric 0.705\n",
      "08:29:08 epoch 02 loss 0.034 bce 0.083 dice 0.025 lr=0.00017071\n",
      "08:29:14 valid    loss 0.327 bce 0.662 dice 0.194 metric 0.703\n",
      "08:57:30 epoch 03 loss 0.033 bce 0.083 dice 0.024 lr=0.00015000\n",
      "08:57:36 valid    loss 0.319 bce 0.662 dice 0.187 metric 0.712\n",
      "Save model\n",
      "09:27:44 epoch 04 loss 0.033 bce 0.083 dice 0.024 lr=0.00012589\n",
      "09:27:50 valid    loss 0.321 bce 0.662 dice 0.189 metric 0.711\n",
      "09:57:21 epoch 05 loss 0.033 bce 0.083 dice 0.024 lr=0.00010000\n",
      "09:57:27 valid    loss 0.321 bce 0.662 dice 0.188 metric 0.712\n",
      "10:27:03 epoch 06 loss 0.032 bce 0.083 dice 0.024 lr=0.00007412\n",
      "10:27:08 valid    loss 0.315 bce 0.662 dice 0.183 metric 0.719\n",
      "Save model\n",
      "10:56:40 epoch 07 loss 0.032 bce 0.083 dice 0.024 lr=0.00005001\n",
      "10:56:45 valid    loss 0.312 bce 0.661 dice 0.180 metric 0.723\n",
      "Save model\n",
      "11:26:21 epoch 08 loss 0.031 bce 0.083 dice 0.023 lr=0.00002930\n",
      "11:26:27 valid    loss 0.314 bce 0.661 dice 0.181 metric 0.722\n",
      "11:54:59 epoch 09 loss 0.031 bce 0.083 dice 0.023 lr=0.00001341\n",
      "11:55:05 valid    loss 0.314 bce 0.661 dice 0.182 metric 0.722\n",
      "12:25:29 epoch 10 loss 0.031 bce 0.083 dice 0.023 lr=0.00000342\n",
      "12:25:34 valid    loss 0.312 bce 0.661 dice 0.180 metric 0.724\n",
      "Save model\n",
      "12:54:20 epoch 11 loss 0.031 bce 0.083 dice 0.022 lr=0.00000001\n",
      "12:54:25 valid    loss 0.312 bce 0.661 dice 0.179 metric 0.725\n",
      "Save model\n",
      "13:24:11 epoch 12 loss 0.031 bce 0.083 dice 0.022 lr=0.00000342\n",
      "13:24:16 valid    loss 0.313 bce 0.661 dice 0.181 metric 0.723\n",
      "13:53:37 epoch 13 loss 0.031 bce 0.083 dice 0.022 lr=0.00001341\n",
      "13:53:43 valid    loss 0.312 bce 0.661 dice 0.179 metric 0.724\n",
      "14:24:06 epoch 14 loss 0.031 bce 0.083 dice 0.022 lr=0.00002930\n",
      "14:24:12 valid    loss 0.313 bce 0.661 dice 0.181 metric 0.723\n",
      "14:53:56 epoch 15 loss 0.031 bce 0.083 dice 0.022 lr=0.00005001\n",
      "14:54:02 valid    loss 0.312 bce 0.661 dice 0.180 metric 0.723\n",
      "Reload model\n",
      "15:22:13 epoch 16 loss 0.031 bce 0.083 dice 0.022 lr=0.00007412\n",
      "15:22:18 valid    loss 0.315 bce 0.661 dice 0.183 metric 0.721\n",
      "15:51:04 epoch 17 loss 0.031 bce 0.083 dice 0.023 lr=0.00010000\n",
      "15:51:10 valid    loss 0.313 bce 0.661 dice 0.180 metric 0.723\n",
      "16:21:00 epoch 18 loss 0.031 bce 0.083 dice 0.023 lr=0.00012589\n",
      "16:21:06 valid    loss 0.317 bce 0.661 dice 0.184 metric 0.719\n",
      "16:50:29 epoch 19 loss 0.031 bce 0.083 dice 0.023 lr=0.00015000\n",
      "16:50:34 valid    loss 0.319 bce 0.662 dice 0.186 metric 0.715\n",
      "Reload model\n",
      "17:20:25 epoch 20 loss 0.032 bce 0.083 dice 0.023 lr=0.00017071\n",
      "17:20:31 valid    loss 0.318 bce 0.661 dice 0.186 metric 0.715\n",
      "17:49:27 epoch 21 loss 0.032 bce 0.083 dice 0.024 lr=0.00018660\n",
      "17:49:33 valid    loss 0.324 bce 0.662 dice 0.191 metric 0.711\n",
      "18:19:05 epoch 22 loss 0.033 bce 0.083 dice 0.024 lr=0.00019659\n",
      "18:19:10 valid    loss 0.325 bce 0.662 dice 0.192 metric 0.708\n",
      "18:48:15 epoch 23 loss 0.032 bce 0.083 dice 0.024 lr=0.00020000\n",
      "18:48:21 valid    loss 0.326 bce 0.662 dice 0.194 metric 0.706\n",
      "Reload model\n",
      "done at 18:48:22\n"
     ]
    }
   ],
   "source": [
    "loader_train = DataLoader(\n",
    "  dataset_train,\n",
    "  batch_size=BATCHSIZE,\n",
    "  shuffle=True,\n",
    "  num_workers=2,\n",
    "  drop_last=True,\n",
    ")\n",
    "\n",
    "loader_val = DataLoader(\n",
    "  dataset_val,\n",
    "  batch_size=BATCHSIZE,\n",
    "  shuffle=False,\n",
    "  num_workers=2,\n",
    "  drop_last=False,\n",
    ")\n",
    "\n",
    "seed_everything(SEED + STAGE)\n",
    "\n",
    "optimizer = torch.optim.AdamW(model.parameters(),\n",
    "                              lr=MAX_LR,\n",
    "                              weight_decay=1e-2)\n",
    "\n",
    "scheduler = torch.optim.lr_scheduler.CosineAnnealingLR(optimizer, \n",
    "                                                       EPOCHS // 2,\n",
    "                                                       eta_min=1e-8)\n",
    "\n",
    "print('start at', datetime.now().strftime(\"%H:%M:%S\"))\n",
    "best_metric = 0.0\n",
    "best_cnt    = 0\n",
    "optimizer.zero_grad()\n",
    "for epoch in range(EPOCHS):\n",
    "    losses     = []\n",
    "    losses_bce = []\n",
    "    losses_dc  = []\n",
    "\n",
    "    model.train()\n",
    "    torch.cuda.empty_cache()\n",
    "\n",
    "    for i, batch in enumerate(loader_train, start=1):\n",
    "        mask = batch['mask'].to(DEVICE)\n",
    "        with torch.cuda.amp.autocast(enabled=True):\n",
    "            pred = model.forward(batch['image'].to(DEVICE))\n",
    "            \n",
    "            dc = dice(pred, mask.long())\n",
    "            y_pred = (pred.argmax(dim=1) > 0).float()\n",
    "            y_true = (mask > 0).float()\n",
    "            bce = criterion(y_pred, y_true)\n",
    "            \n",
    "            loss = dc + bce * 0.1\n",
    "        \n",
    "        losses.append(loss.item() / GRAD_ACC_STEPS)\n",
    "        losses_bce.append(bce.item() / GRAD_ACC_STEPS)\n",
    "        losses_dc.append(dc.item() / GRAD_ACC_STEPS)\n",
    "\n",
    "        loss = loss / GRAD_ACC_STEPS\n",
    "        scaler.scale(loss).backward()\n",
    "\n",
    "        if i % GRAD_ACC_STEPS == 0:\n",
    "            scaler.step(optimizer)\n",
    "            scaler.update()\n",
    "            optimizer.zero_grad()\n",
    "        \n",
    "    scheduler.step()\n",
    "    print(datetime.now().strftime(\"%H:%M:%S\"),\n",
    "          f'epoch {epoch:02d} loss {np.mean(losses):.3f} bce {np.mean(losses_bce):.3f} '\n",
    "          f'dice {np.mean(losses_dc):.3f} lr={optimizer.param_groups[0][\"lr\"]:.8f}')\n",
    "\n",
    "    val_losses     = []\n",
    "    val_losses_bce = []\n",
    "    val_losses_dc  = []\n",
    "    metrics        = []\n",
    "    model.eval()\n",
    "    torch.cuda.empty_cache()\n",
    "    with torch.no_grad():\n",
    "        for batch in loader_val:\n",
    "            pred = model.forward(batch['image'].to(DEVICE))\n",
    "            mask = batch['mask'].to(DEVICE)\n",
    "\n",
    "            dc = dice(pred, mask.long())\n",
    "            y_pred = (pred.argmax(dim=1) > 0).float()\n",
    "            y_true = (mask > 0).float()\n",
    "            bce = criterion(y_pred, y_true)\n",
    "\n",
    "            loss = dc + bce * 0.2\n",
    "            metric = 1 - iou(pred, mask.long()).item()\n",
    "\n",
    "            val_losses.append(loss.item())\n",
    "            val_losses_bce.append(bce.item())\n",
    "            val_losses_dc.append(dc.item())\n",
    "\n",
    "            metrics.append(metric)\n",
    "\n",
    "    print(datetime.now().strftime(\"%H:%M:%S\"), f'valid    loss {np.mean(val_losses):.3f} bce {np.mean(val_losses_bce):.3f} '\n",
    "          f'dice {np.mean(val_losses_dc):.3f} metric {np.mean(metrics):.3f}')\n",
    "\n",
    "    best_cnt += 1\n",
    "    if best_metric <= np.mean(metrics):\n",
    "        best_cnt    = 0\n",
    "        best_metric = np.mean(metrics)\n",
    "        torch.save(model.state_dict(), f\"{ROOT_DRIVE}{ARCH}_{ENCODER}_{VERSION}.pth\")\n",
    "        print('Save model')\n",
    "    if best_cnt > 3:\n",
    "        best_cnt = 0\n",
    "        model.load_state_dict(torch.load(f\"{ROOT_DRIVE}{ARCH}_{ENCODER}_{VERSION}.pth\", map_location='cpu'))\n",
    "        print('Reload model')\n",
    "\n",
    "\n",
    "torch.cuda.empty_cache()\n",
    "print('done at', datetime.now().strftime(\"%H:%M:%S\"))"
   ]
  },
  {
   "cell_type": "markdown",
   "metadata": {
    "id": "JX9hoRMdR0M2"
   },
   "source": [
    "## Делаем прогноз"
   ]
  },
  {
   "cell_type": "code",
   "execution_count": 12,
   "metadata": {
    "colab": {
     "base_uri": "https://localhost:8080/"
    },
    "executionInfo": {
     "elapsed": 108972,
     "status": "ok",
     "timestamp": 1669315810652,
     "user": {
      "displayName": "Maxim Panich",
      "userId": "18004259790516144812"
     },
     "user_tz": -300
    },
    "id": "7iN2g9GPRx2o",
    "outputId": "2a1e1d1d-4a9c-4179-e5a2-ff4f90e76593"
   },
   "outputs": [
    {
     "name": "stdout",
     "output_type": "stream",
     "text": [
      "0000 /content/test/00388128-357d-44bb-a630-5e8856e4dcb0.png\n",
      "0100 /content/test/0c2d854d-01e5-4b6e-ba78-1b443edcd784.png\n",
      "0200 /content/test/1af2e8a6-c3e3-4e80-b6b9-1ef8d693a57f.png\n",
      "0300 /content/test/2aadb686-e5ec-4c3d-bcb1-b76e3030c62e.png\n",
      "0400 /content/test/3aa52680-b2f0-487a-b6c7-e38050a4a04e.png\n",
      "0500 /content/test/4ac6f8a4-957b-4be7-aee6-f40019dbe356.png\n",
      "0600 /content/test/58b3ccd9-4c6d-477b-8dd0-6b09dfe73d5d.png\n",
      "0700 /content/test/619d426b-4a34-4d46-ad9e-45a8ece730dd.png\n",
      "0800 /content/test/6f431a1c-0a6c-480d-bffd-629b0fbd7a0d.png\n",
      "0900 /content/test/7bec62bf-f5ef-4d0e-b525-0f30aca7f60f.png\n",
      "1000 /content/test/8b3e4e4c-3499-4fad-9f87-02073fed2fd2.png\n",
      "1100 /content/test/9b793582-e744-450c-a142-e34d0a7cb2ec.png\n",
      "1200 /content/test/b32baacd-bf29-49e9-b2eb-9a718ea4496d.png\n",
      "1300 /content/test/bf3e649d-db84-433e-9f4c-82b7f040c226.png\n",
      "1400 /content/test/de171555-fcde-48e1-9d11-b5f16a3997a8.png\n",
      "done\n"
     ]
    }
   ],
   "source": [
    "model.load_state_dict(torch.load(f\"{ROOT_DRIVE}{ARCH}_{ENCODER}_{VERSION}.pth\",\n",
    "                                 map_location='cpu'))\n",
    "model.eval()\n",
    "model.to(DEVICE)\n",
    "\n",
    "transform_test = A.Compose([\n",
    "    A.Resize(1024, 1024, interpolation=cv2.INTER_AREA),\n",
    "    A.Normalize(mean=[0.485, 0.456, 0.406],\n",
    "                std=[0.229, 0.224, 0.225]),\n",
    "    ToTensorV2()\n",
    "])\n",
    "\n",
    "test_image_path = Path(ROOT) / \"test\"\n",
    "\n",
    "with torch.no_grad():\n",
    "    torch.cuda.empty_cache()\n",
    "    for i, image_path in enumerate(sorted(test_image_path.glob(\"*.png\"))):\n",
    "        if i % 100 == 0:\n",
    "            print(f\"{i:04d} {image_path}\")\n",
    "\n",
    "        img = cv2.imread(str(image_path))\n",
    "        img = cv2.cvtColor(img, cv2.COLOR_BGR2RGB)\n",
    "        h, w, _ = img.shape\n",
    "        \n",
    "        img  = transform_test(image=img)['image'].unsqueeze(0).to(DEVICE)\n",
    "        pred = model.forward(img)\n",
    "        mask = torch.argmax(pred, dim=1).squeeze().cpu().numpy()\n",
    "        mask = cv2.resize(mask, (w, h), 0, 0, interpolation=cv2.INTER_NEAREST)\n",
    "                \n",
    "        cv2.imwrite(f'{str(ROOT)}/test_masks/{image_path.name}', mask)\n",
    "\n",
    "print('done')"
   ]
  },
  {
   "cell_type": "code",
   "execution_count": 13,
   "metadata": {
    "colab": {
     "base_uri": "https://localhost:8080/"
    },
    "executionInfo": {
     "elapsed": 646,
     "status": "ok",
     "timestamp": 1669315811281,
     "user": {
      "displayName": "Maxim Panich",
      "userId": "18004259790516144812"
     },
     "user_tz": -300
    },
    "id": "gee_DNuoSPg5",
    "outputId": "9d307620-a82f-490d-cdb3-ec24d53c6138"
   },
   "outputs": [
    {
     "name": "stdout",
     "output_type": "stream",
     "text": [
      "/content/test_masks\n"
     ]
    }
   ],
   "source": [
    "if COLAB:\n",
    "    %cd /content/test_masks/\n",
    "    !zip -q ../test_masks_3.zip *.png\n",
    "    !cp ../test_masks_3.zip /content/drive/MyDrive/crimea/"
   ]
  }
 ],
 "metadata": {
  "accelerator": "GPU",
  "colab": {
   "provenance": []
  },
  "gpuClass": "premium",
  "kernelspec": {
   "display_name": "lab",
   "language": "python",
   "name": "lab"
  },
  "language_info": {
   "codemirror_mode": {
    "name": "ipython",
    "version": 3
   },
   "file_extension": ".py",
   "mimetype": "text/x-python",
   "name": "python",
   "nbconvert_exporter": "python",
   "pygments_lexer": "ipython3",
   "version": "3.9.13"
  }
 },
 "nbformat": 4,
 "nbformat_minor": 4
}
