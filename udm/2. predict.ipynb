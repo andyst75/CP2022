{
 "cells": [
  {
   "cell_type": "markdown",
   "id": "f5c60bb3-fe48-4672-8126-b406b1ce712a",
   "metadata": {},
   "source": [
    "## Загружаем библиотеки, указываем с помощью какой модели будем делать прогноз"
   ]
  },
  {
   "cell_type": "code",
   "execution_count": 1,
   "id": "4f2aaa61-9c8d-405b-905a-f7dc08fecb39",
   "metadata": {},
   "outputs": [],
   "source": [
    "import os\n",
    "import gc\n",
    "import glob\n",
    "import sys\n",
    "import time\n",
    "import random\n",
    "from datetime import datetime\n",
    "from pathlib import Path\n",
    "\n",
    "import cv2\n",
    "import numpy as np\n",
    "import pandas as pd\n",
    "from IPython.display import clear_output\n",
    "from sklearn.metrics import r2_score\n",
    "from sklearn.model_selection import train_test_split, KFold\n",
    "\n",
    "import torch\n",
    "from timm.data import IMAGENET_DEFAULT_MEAN, IMAGENET_DEFAULT_STD\n",
    "import torch.nn as nn\n",
    "from torch.utils.data import Dataset, Subset\n",
    "\n",
    "import timm\n",
    "import albumentations as A\n",
    "from albumentations.pytorch import ToTensorV2\n",
    "from pytorch_metric_learning.losses import ArcFaceLoss\n",
    "\n",
    "TIMMMODEL = 'tf_efficientnetv2_m_in21ft1k'\n",
    "VERSION = '1207'\n",
    "EMB_FEATURES = 256\n",
    "\n",
    "SEED = 0\n",
    "SIZE = 384\n",
    "DEVICE = 'cuda'\n",
    "\n",
    "def seed_everything(seed=1234):\n",
    "    random.seed(seed)\n",
    "    np.random.seed(seed)\n",
    "    os.environ['PYTHONHASHSEED'] = str(seed)\n",
    "    torch.manual_seed(seed)\n",
    "    torch.cuda.manual_seed(seed)\n",
    "    torch.backends.cudnn.deterministic = True\n",
    "    torch.backends.cudnn.benchmark     = False\n",
    "\n",
    "seed_everything(SEED)"
   ]
  },
  {
   "cell_type": "markdown",
   "id": "87077164-f517-4929-9a66-d513f5b0bb44",
   "metadata": {},
   "source": [
    "## При формировании головы изменяем forward, т.к. нам требуется только регрессионный прогноз"
   ]
  },
  {
   "cell_type": "code",
   "execution_count": 2,
   "id": "2c332b2c-c35b-41fe-86c5-eaeaa3769393",
   "metadata": {},
   "outputs": [],
   "source": [
    "class Head(nn.Module):\n",
    "    def __init__(self, in_features, emb_features:int=512):\n",
    "        super().__init__()\n",
    "\n",
    "        self.in_features = in_features\n",
    "        self.emb_features = emb_features\n",
    "        \n",
    "        self.dropout = nn.Dropout(0.1)\n",
    "        self.out = nn.Sequential(\n",
    "            nn.Linear(self.in_features, self.emb_features, bias=False),\n",
    "            nn.BatchNorm1d(self.emb_features),\n",
    "            nn.ReLU(inplace=True),\n",
    "            nn.Linear(self.emb_features, 1)\n",
    "        )\n",
    "        self.neck = nn.Sequential(\n",
    "            nn.BatchNorm1d(self.in_features),\n",
    "            nn.Linear(self.in_features, self.emb_features, bias=False),\n",
    "            nn.ReLU(inplace=True),\n",
    "            nn.BatchNorm1d(self.emb_features),\n",
    "            nn.Linear(self.emb_features, self.emb_features, bias=False),\n",
    "            nn.BatchNorm1d(self.emb_features)\n",
    "        )\n",
    "        \n",
    "        \n",
    "    def forward(self, features):\n",
    "        x = self.dropout(features)\n",
    "        x = self.out(x)\n",
    "        \n",
    "        return x\n",
    "\n",
    "\n",
    "model = timm.create_model(TIMMMODEL, pretrained=False)\n",
    "head_name = model.default_cfg['classifier']\n",
    "\n",
    "if head_name == 'last_linear':\n",
    "    model.last_linear = Head(model.last_linear.in_features, emb_features=EMB_FEATURES)\n",
    "elif head_name == 'head':\n",
    "    model.head = Head(model.head.in_features, emb_features=EMB_FEATURES)\n",
    "elif head_name == 'fc':\n",
    "    model.fc = Head(model.fc.in_features, emb_features=EMB_FEATURES)\n",
    "elif head_name == 'head.fc':\n",
    "    model.head.fc = Head(model.head.fc.in_features, emb_features=EMB_FEATURES)\n",
    "elif head_name == 'classifier':\n",
    "    model.classifier = Head(model.classifier.in_features, emb_features=EMB_FEATURES)\n",
    "\n",
    "model.load_state_dict(torch.load(f\"{VERSION}_{TIMMMODEL}_arc.pth\", map_location='cpu'))\n",
    "\n",
    "model.eval()\n",
    "_ = model.to(DEVICE)"
   ]
  },
  {
   "cell_type": "markdown",
   "id": "c61020f0-4526-4e16-808a-28b686dfe83b",
   "metadata": {},
   "source": [
    "## Определяем датасет"
   ]
  },
  {
   "cell_type": "code",
   "execution_count": 3,
   "id": "68eb08f6-85a5-4294-b87b-b58be2847c89",
   "metadata": {},
   "outputs": [],
   "source": [
    "class ImageDataset(Dataset):\n",
    "    def __init__(self, data_df, transform=None):\n",
    "\n",
    "        self.data_df = data_df\n",
    "        self.transform = transform\n",
    "\n",
    "    def __getitem__(self, idx):\n",
    "        # достаем имя изображения и ее лейбл\n",
    "        image_name = self.data_df.iloc[idx]['img_num']\n",
    "\n",
    "        # читаем картинку. read the image\n",
    "        image = cv2.imread(f\"test/{image_name}\")\n",
    "        image = cv2.cvtColor(image, cv2.COLOR_BGR2RGB)\n",
    "        \n",
    "        if self.transform:\n",
    "            image = self.transform(image=image)['image']\n",
    "        \n",
    "        return image\n",
    "    \n",
    "    def __len__(self):\n",
    "        return len(self.data_df)\n",
    "\n",
    "\n",
    "transform_test = A.Compose([\n",
    "    A.Resize(SIZE, SIZE),\n",
    "    A.Normalize(mean= model.default_cfg['mean'],\n",
    "                std = model.default_cfg['std']),\n",
    "    ToTensorV2()\n",
    "])\n",
    "\n",
    "test_df = pd.read_csv(\"sample_solution.csv\")\n",
    "test_df = test_df.drop([\"number_of_houses\"], axis = 1)\n",
    "\n",
    "dataset = ImageDataset(test_df, transform_test)\n",
    "\n",
    "dataloader = torch.utils.data.DataLoader(dataset=dataset,\n",
    "                                         batch_size=4,\n",
    "                                         shuffle=False,\n",
    "                                         pin_memory=True,\n",
    "                                         drop_last=False,\n",
    "                                         num_workers=4)"
   ]
  },
  {
   "cell_type": "markdown",
   "id": "f05c6d31-0a1d-41c8-8b9b-d42c5a1a334b",
   "metadata": {},
   "source": [
    "## Делаем предсказание"
   ]
  },
  {
   "cell_type": "code",
   "execution_count": 4,
   "id": "ba52d067-0a47-4f89-ba3d-a8723c08cd4c",
   "metadata": {},
   "outputs": [
    {
     "name": "stdout",
     "output_type": "stream",
     "text": [
      "16:54:41 iter    10\n",
      "16:54:42 iter    20\n",
      "16:54:43 iter    30\n",
      "16:54:44 iter    40\n",
      "16:54:45 iter    50\n",
      "16:54:46 iter    60\n",
      "16:54:47 iter    70\n",
      "16:54:48 iter    80\n",
      "16:54:50 iter    90\n",
      "16:54:51 iter   100\n",
      "16:54:52 iter   110\n",
      "16:54:53 iter   120\n",
      "16:54:54 iter   130\n",
      "16:54:55 iter   140\n",
      "16:54:57 iter   150\n",
      "16:54:58 iter   160\n",
      "16:54:59 iter   170\n",
      "16:55:00 iter   180\n",
      "16:55:01 iter   190\n",
      "16:55:02 iter   200\n",
      "16:55:03 iter   210\n",
      "16:55:04 iter   220\n"
     ]
    }
   ],
   "source": [
    "results = []\n",
    "with torch.no_grad():\n",
    "    for it, imgs in enumerate(dataloader, start = 1):\n",
    "        if it % 10 == 0:\n",
    "            print(f'{datetime.now().strftime(\"%H:%M:%S\")} iter {it:5d}')\n",
    "        \n",
    "        imgs = imgs.to(DEVICE)\n",
    "        y_pred = model(imgs)\n",
    "        \n",
    "        pred = torch.clip(y_pred, 1.0, 32.0)\n",
    "        pred = torch.ceil(pred)\n",
    "\n",
    "        pred_numpy = pred.cpu().numpy().astype('int').flatten()\n",
    "\n",
    "        results.extend(pred_numpy.tolist())"
   ]
  },
  {
   "cell_type": "markdown",
   "id": "8d4e710a-65fb-496c-880e-a0ca68a101b8",
   "metadata": {},
   "source": [
    "## Сохраняем результат"
   ]
  },
  {
   "cell_type": "code",
   "execution_count": 5,
   "id": "16d471f9-04ff-4777-96c2-05e3b9a7de81",
   "metadata": {},
   "outputs": [
    {
     "data": {
      "text/html": [
       "<div>\n",
       "<style scoped>\n",
       "    .dataframe tbody tr th:only-of-type {\n",
       "        vertical-align: middle;\n",
       "    }\n",
       "\n",
       "    .dataframe tbody tr th {\n",
       "        vertical-align: top;\n",
       "    }\n",
       "\n",
       "    .dataframe thead th {\n",
       "        text-align: right;\n",
       "    }\n",
       "</style>\n",
       "<table border=\"1\" class=\"dataframe\">\n",
       "  <thead>\n",
       "    <tr style=\"text-align: right;\">\n",
       "      <th></th>\n",
       "      <th>img_num</th>\n",
       "      <th>number_of_houses</th>\n",
       "    </tr>\n",
       "  </thead>\n",
       "  <tbody>\n",
       "    <tr>\n",
       "      <th>0</th>\n",
       "      <td>000000001801.jpg</td>\n",
       "      <td>6</td>\n",
       "    </tr>\n",
       "    <tr>\n",
       "      <th>1</th>\n",
       "      <td>000000001190.jpg</td>\n",
       "      <td>2</td>\n",
       "    </tr>\n",
       "    <tr>\n",
       "      <th>2</th>\n",
       "      <td>000000001817.jpg</td>\n",
       "      <td>16</td>\n",
       "    </tr>\n",
       "  </tbody>\n",
       "</table>\n",
       "</div>"
      ],
      "text/plain": [
       "            img_num  number_of_houses\n",
       "0  000000001801.jpg                 6\n",
       "1  000000001190.jpg                 2\n",
       "2  000000001817.jpg                16"
      ]
     },
     "execution_count": 5,
     "metadata": {},
     "output_type": "execute_result"
    }
   ],
   "source": [
    "test_df[\"number_of_houses\"] = results\n",
    "\n",
    "test_df.to_csv(f\"{VERSION}_{TIMMMODEL}_arc.csv\", index=False)\n",
    "test_df.head(3)"
   ]
  }
 ],
 "metadata": {
  "kernelspec": {
   "display_name": "lab",
   "language": "python",
   "name": "lab"
  },
  "language_info": {
   "codemirror_mode": {
    "name": "ipython",
    "version": 3
   },
   "file_extension": ".py",
   "mimetype": "text/x-python",
   "name": "python",
   "nbconvert_exporter": "python",
   "pygments_lexer": "ipython3",
   "version": "3.9.7"
  }
 },
 "nbformat": 4,
 "nbformat_minor": 5
}
